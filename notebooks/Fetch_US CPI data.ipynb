{
 "cells": [
  {
   "cell_type": "code",
   "execution_count": null,
   "metadata": {},
   "outputs": [],
   "source": [
    "pip install pandas-datareader pandas  "
   ]
  },
  {
   "cell_type": "code",
   "execution_count": 1,
   "metadata": {},
   "outputs": [],
   "source": [
    "\"\"\"\n",
    "This script fetches US CPI data from FRED and calculates quarterly inflation rates.\n",
    "It saves the results to a CSV file and displays the last 4 quarters of inflation data.\n",
    "\"\"\"\n",
    "\n",
    "import pandas_datareader.data as web\n",
    "import datetime\n",
    "import pandas as pd\n",
    "import sys"
   ]
  },
  {
   "cell_type": "code",
   "execution_count": 2,
   "metadata": {},
   "outputs": [],
   "source": [
    "def fetch_inflation_data():\n",
    "    \"\"\"\n",
    "    Fetches CPI data from FRED and calculates quarterly inflation rates.\n",
    "    \n",
    "    Returns:\n",
    "        pandas.DataFrame: Quarterly inflation rates\n",
    "    \"\"\"\n",
    "    try:\n",
    "        # Calculate date range (2 years back from now to ensure enough data)\n",
    "        start_date = datetime.datetime.now() - datetime.timedelta(days=365 * 2)\n",
    "        end_date = datetime.datetime.now()\n",
    "\n",
    "        # Fetch CPI data from FRED (Consumer Price Index for All Urban Consumers)\n",
    "        cpi_data = web.DataReader(\"CPIAUCSL\", \"fred\", start_date, end_date)\n",
    "\n",
    "        # Resample to quarterly data (use last value of each quarter)\n",
    "        quarterly_cpi_data = cpi_data.resample('Q').last()\n",
    "\n",
    "        # Calculate year-over-year inflation rate\n",
    "        quarterly_inflation = quarterly_cpi_data.pct_change(periods=4) * 100\n",
    "        \n",
    "        # Rename column for clarity\n",
    "        quarterly_inflation.columns = ['Inflation Rate (%)']\n",
    "        \n",
    "        return quarterly_inflation\n",
    "\n",
    "    except Exception as e:\n",
    "        print(f\"Error fetching data: {str(e)}\")\n",
    "        sys.exit(1)"
   ]
  },
  {
   "cell_type": "code",
   "execution_count": 3,
   "metadata": {},
   "outputs": [],
   "source": [
    "def main():\n",
    "    \"\"\"\n",
    "    Main function to execute the script.\n",
    "    \"\"\"\n",
    "    # Fetch the inflation data\n",
    "    quarterly_inflation = fetch_inflation_data()\n",
    "    \n",
    "    # Get the last 4 quarters\n",
    "    last_4_quarters = quarterly_inflation.tail(4)\n",
    "    \n",
    "    # Save to CSV file\n",
    "    output_filename = 'us_quarterly_inflation.csv'\n",
    "    last_4_quarters.to_csv(output_filename)\n",
    "    \n",
    "    # Display results\n",
    "    print(\"\\nLast 4 quarters of US CPI inflation rates:\")\n",
    "    print(last_4_quarters)\n",
    "    print(f\"\\nData has been saved to {output_filename}\")"
   ]
  },
  {
   "cell_type": "code",
   "execution_count": 4,
   "metadata": {},
   "outputs": [
    {
     "name": "stdout",
     "output_type": "stream",
     "text": [
      "\n",
      "Last 4 quarters of US CPI inflation rates:\n",
      "            Inflation Rate (%)\n",
      "DATE                          \n",
      "2024-03-31            3.475131\n",
      "2024-06-30            2.975629\n",
      "2024-09-30            2.407513\n",
      "2024-12-31            2.173983\n",
      "\n",
      "Data has been saved to us_quarterly_inflation.csv\n"
     ]
    },
    {
     "name": "stderr",
     "output_type": "stream",
     "text": [
      "C:\\Users\\ppgod\\AppData\\Local\\Temp\\ipykernel_28500\\2138451401.py:17: FutureWarning: 'Q' is deprecated and will be removed in a future version, please use 'QE' instead.\n",
      "  quarterly_cpi_data = cpi_data.resample('Q').last()\n"
     ]
    }
   ],
   "source": [
    "if __name__ == \"__main__\":\n",
    "    main()"
   ]
  }
 ],
 "metadata": {
  "kernelspec": {
   "display_name": "base",
   "language": "python",
   "name": "python3"
  },
  "language_info": {
   "codemirror_mode": {
    "name": "ipython",
    "version": 3
   },
   "file_extension": ".py",
   "mimetype": "text/x-python",
   "name": "python",
   "nbconvert_exporter": "python",
   "pygments_lexer": "ipython3",
   "version": "3.12.4"
  }
 },
 "nbformat": 4,
 "nbformat_minor": 2
}
