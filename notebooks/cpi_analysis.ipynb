pip install pandas-datareader pandas  
"""
This script fetches US CPI data from FRED and calculates quarterly inflation rates.
It saves the results to a CSV file and displays the last 4 quarters of inflation data.
"""

import pandas_datareader.data as web
import datetime
import pandas as pd
import sys
def fetch_inflation_data():
    """
    Fetches CPI data from FRED and calculates quarterly inflation rates.
    
    Returns:
        pandas.DataFrame: Quarterly inflation rates
    """
    try:
        # Calculate date range (2 years back from now to ensure enough data)
        start_date = datetime.datetime.now() - datetime.timedelta(days=365 * 2)
        end_date = datetime.datetime.now()

        # Fetch CPI data from FRED (Consumer Price Index for All Urban Consumers)
        cpi_data = web.DataReader("CPIAUCSL", "fred", start_date, end_date)

        # Resample to quarterly data (use last value of each quarter)
        quarterly_cpi_data = cpi_data.resample('Q').last()

        # Calculate year-over-year inflation rate
        quarterly_inflation = quarterly_cpi_data.pct_change(periods=4) * 100
        
        # Rename column for clarity
        quarterly_inflation.columns = ['Inflation Rate (%)']
        
        return quarterly_inflation

    except Exception as e:
        print(f"Error fetching data: {str(e)}")
        sys.exit(1)
def main():
    """
    Main function to execute the script.
    """
    # Fetch the inflation data
    quarterly_inflation = fetch_inflation_data()
    
    # Get the last 4 quarters
    last_4_quarters = quarterly_inflation.tail(4)
    
    # Save to CSV file
    output_filename = 'us_quarterly_inflation.csv'
    last_4_quarters.to_csv(output_filename)
    
    # Display results
    print("\nLast 4 quarters of US CPI inflation rates:")
    print(last_4_quarters)
    print(f"\nData has been saved to {output_filename}")
if __name__ == "__main__":
    main()
