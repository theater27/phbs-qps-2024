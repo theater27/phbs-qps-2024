{
"cells": [
{
"cell_type": "markdown",
"metadata": {},
"source": [
"# CPI Inflation Analysis\n",
"\n",
"This notebook demonstrates how to use the CPIAnalyzer class to analyze inflation data."
]
},
{
"cell_type": "code",
"execution_count": null,
"metadata": {},
"source": [
"import sys\n",
"from pathlib import Path\n",
"import matplotlib.pyplot as plt\n",
"import seaborn as sns\n",
"\n",
"# Add project root to Python path\n",
"project_root = Path().resolve().parents[0]\n",
"sys.path.append(str(project_root))\n",
"\n",
"from src.cpi_analyzer import CPIAnalyzer"
]
},
{
"cell_type": "markdown",
"metadata": {},
"source": [
"## Initialize Analyzer and Fetch Data"
]
},
{
"cell_type": "code",
"execution_count": null,
"metadata": {},
"source": [
"analyzer = CPIAnalyzer()\n",
"data = analyzer.fetch_data()"
]
},
{
"cell_type": "markdown",
"metadata": {},
"source": [
"## Calculate Quarterly Inflation"
]
},
{
"cell_type": "code",
"execution_count": null,
"metadata": {},
"source": [
"quarterly_inflation = analyzer.calculate_quarterly_inflation()\n",
"quarterly_inflation.tail()"
]
},
{
"cell_type": "markdown",
"metadata": {},
"source": [
"## Visualize Inflation Trends"
]
},
{
"cell_type": "code",
"execution_count": null,
"metadata": {},
"source": [
"plt.figure(figsize=(12, 6))\n",
"sns.lineplot(data=quarterly_inflation)\n",
"plt.title('US Quarterly Inflation Rate')\n",
"plt.xlabel('Date')\n",
"plt.ylabel('Inflation Rate (%)')\n",
"plt.grid(True)\n",
"plt.show()"
]
}
],
"metadata": {
"kernelspec": {
"display_name": "Python 3",
"language": "python",
"name": "python3"
},
"language_info": {
"codemirror_mode": {
"name": "ipython",
"version": 3
},
"file_extension": ".py",
"mimetype": "text/x-python",
"name": "python",
"nbconvert_exporter": "python",
"pygments_lexer": "ipython3",
"version": "3.8.0"
}
},
"nbformat": 4,
"nbformat_minor": 4
}
